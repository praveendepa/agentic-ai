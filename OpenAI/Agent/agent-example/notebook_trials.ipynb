{
 "cells": [
  {
   "cell_type": "code",
   "execution_count": 5,
   "metadata": {},
   "outputs": [],
   "source": [
    "import os\n",
    "\n",
    "import requests\n",
    "\n",
    "import config\n"
   ]
  },
  {
   "cell_type": "code",
   "execution_count": 6,
   "metadata": {},
   "outputs": [],
   "source": [
    "weather_key = config.WEATHER_API_KEY"
   ]
  },
  {
   "cell_type": "code",
   "execution_count": 11,
   "metadata": {},
   "outputs": [
    {
     "data": {
      "text/plain": [
       "{'location': {'name': 'London',\n",
       "  'region': 'City of London, Greater London',\n",
       "  'country': 'United Kingdom',\n",
       "  'lat': 51.5171,\n",
       "  'lon': -0.1062,\n",
       "  'tz_id': 'Europe/London',\n",
       "  'localtime_epoch': 1731742182,\n",
       "  'localtime': '2024-11-16 07:29'},\n",
       " 'current': {'last_updated_epoch': 1731741300,\n",
       "  'last_updated': '2024-11-16 07:15',\n",
       "  'temp_c': 6.0,\n",
       "  'temp_f': 42.8,\n",
       "  'is_day': 1,\n",
       "  'condition': {'text': 'Mist',\n",
       "   'icon': '//cdn.weatherapi.com/weather/64x64/day/143.png',\n",
       "   'code': 1030},\n",
       "  'wind_mph': 4.7,\n",
       "  'wind_kph': 7.6,\n",
       "  'wind_degree': 240,\n",
       "  'wind_dir': 'WSW',\n",
       "  'pressure_mb': 1020.0,\n",
       "  'pressure_in': 30.12,\n",
       "  'precip_mm': 0.0,\n",
       "  'precip_in': 0.0,\n",
       "  'humidity': 93,\n",
       "  'cloud': 75,\n",
       "  'feelslike_c': 4.4,\n",
       "  'feelslike_f': 40.0,\n",
       "  'windchill_c': 4.1,\n",
       "  'windchill_f': 39.5,\n",
       "  'heatindex_c': 5.8,\n",
       "  'heatindex_f': 42.4,\n",
       "  'dewpoint_c': 4.0,\n",
       "  'dewpoint_f': 39.2,\n",
       "  'vis_km': 8.0,\n",
       "  'vis_miles': 4.0,\n",
       "  'uv': 0.0,\n",
       "  'gust_mph': 8.0,\n",
       "  'gust_kph': 12.9}}"
      ]
     },
     "execution_count": 11,
     "metadata": {},
     "output_type": "execute_result"
    }
   ],
   "source": [
    "api_url = \"http://api.weatherapi.com/v1/current.json?key={}&q=London\".format(weather_key)\n",
    "response = requests.get(api_url)\n",
    "response.json()"
   ]
  },
  {
   "cell_type": "code",
   "execution_count": 10,
   "metadata": {},
   "outputs": [
    {
     "data": {
      "text/plain": [
       "'http://api.weatherapi.com/v1/current.json?key=%weather_key&q=London'"
      ]
     },
     "execution_count": 10,
     "metadata": {},
     "output_type": "execute_result"
    }
   ],
   "source": [
    "api_url"
   ]
  },
  {
   "cell_type": "code",
   "execution_count": 17,
   "metadata": {},
   "outputs": [
    {
     "data": {
      "text/plain": [
       "6.0"
      ]
     },
     "execution_count": 17,
     "metadata": {},
     "output_type": "execute_result"
    }
   ],
   "source": [
    "response.json()['current']['temp_c']"
   ]
  },
  {
   "cell_type": "code",
   "execution_count": null,
   "metadata": {},
   "outputs": [],
   "source": []
  }
 ],
 "metadata": {
  "kernelspec": {
   "display_name": "planner",
   "language": "python",
   "name": "python3"
  },
  "language_info": {
   "codemirror_mode": {
    "name": "ipython",
    "version": 3
   },
   "file_extension": ".py",
   "mimetype": "text/x-python",
   "name": "python",
   "nbconvert_exporter": "python",
   "pygments_lexer": "ipython3",
   "version": "3.10.14"
  }
 },
 "nbformat": 4,
 "nbformat_minor": 2
}
