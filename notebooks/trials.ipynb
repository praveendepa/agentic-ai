{
 "cells": [
  {
   "cell_type": "code",
   "execution_count": 22,
   "metadata": {},
   "outputs": [],
   "source": [
    "import os\n",
    "import sys\n",
    "sys.path.append(\"../src/\")\n",
    "\n",
    "from openai import OpenAI\n",
    "\n",
    "import pandas as pd\n",
    "import csv\n",
    "import sqlite3\n",
    "\n",
    "import requests\n",
    "\n",
    "from agentic_ai.functions import llm_fn, sqldb_fn\n",
    "from agentic_ai.functions.sqldb_fn import get_conn\n",
    "\n",
    "\n",
    "\n",
    "import agentic_ai.config"
   ]
  },
  {
   "cell_type": "code",
   "execution_count": 14,
   "metadata": {},
   "outputs": [],
   "source": [
    "weather_key = agentic_ai.config.WEATHER_API_KEY"
   ]
  },
  {
   "cell_type": "code",
   "execution_count": 10,
   "metadata": {},
   "outputs": [
    {
     "data": {
      "text/plain": [
       "{'location': {'name': 'Hyderabad',\n",
       "  'region': 'Andhra Pradesh',\n",
       "  'country': 'India',\n",
       "  'lat': 17.3753,\n",
       "  'lon': 78.4744,\n",
       "  'tz_id': 'Asia/Kolkata',\n",
       "  'localtime_epoch': 1731748976,\n",
       "  'localtime': '2024-11-16 14:52'},\n",
       " 'current': {'last_updated_epoch': 1731748500,\n",
       "  'last_updated': '2024-11-16 14:45',\n",
       "  'temp_c': 31.1,\n",
       "  'temp_f': 88.0,\n",
       "  'is_day': 1,\n",
       "  'condition': {'text': 'Mist',\n",
       "   'icon': '//cdn.weatherapi.com/weather/64x64/day/143.png',\n",
       "   'code': 1030},\n",
       "  'wind_mph': 8.5,\n",
       "  'wind_kph': 13.7,\n",
       "  'wind_degree': 57,\n",
       "  'wind_dir': 'ENE',\n",
       "  'pressure_mb': 1014.0,\n",
       "  'pressure_in': 29.94,\n",
       "  'precip_mm': 0.0,\n",
       "  'precip_in': 0.0,\n",
       "  'humidity': 36,\n",
       "  'cloud': 0,\n",
       "  'feelslike_c': 30.5,\n",
       "  'feelslike_f': 86.9,\n",
       "  'windchill_c': 30.2,\n",
       "  'windchill_f': 86.3,\n",
       "  'heatindex_c': 29.4,\n",
       "  'heatindex_f': 84.9,\n",
       "  'dewpoint_c': 11.9,\n",
       "  'dewpoint_f': 53.4,\n",
       "  'vis_km': 5.0,\n",
       "  'vis_miles': 3.0,\n",
       "  'uv': 4.7,\n",
       "  'gust_mph': 9.8,\n",
       "  'gust_kph': 15.7}}"
      ]
     },
     "execution_count": 10,
     "metadata": {},
     "output_type": "execute_result"
    }
   ],
   "source": [
    "api_url = \"http://api.weatherapi.com/v1/current.json?key={}&q=hyderabad\".format(weather_key)\n",
    "response = requests.get(api_url)\n",
    "response.json()"
   ]
  },
  {
   "cell_type": "code",
   "execution_count": 10,
   "metadata": {},
   "outputs": [
    {
     "data": {
      "text/plain": [
       "'http://api.weatherapi.com/v1/current.json?key=%weather_key&q=London'"
      ]
     },
     "execution_count": 10,
     "metadata": {},
     "output_type": "execute_result"
    }
   ],
   "source": [
    "api_url"
   ]
  },
  {
   "cell_type": "code",
   "execution_count": 17,
   "metadata": {},
   "outputs": [
    {
     "data": {
      "text/plain": [
       "6.0"
      ]
     },
     "execution_count": 17,
     "metadata": {},
     "output_type": "execute_result"
    }
   ],
   "source": [
    "response.json()['current']['temp_c']"
   ]
  },
  {
   "cell_type": "code",
   "execution_count": 17,
   "metadata": {},
   "outputs": [],
   "source": [
    "table_name = \"data_fct\"\n",
    "csv_file = \"../data/superstore/superstore.csv\"\n",
    "database = \"../data/database.db\"\n",
    "conn = sqlite3.connect(database)"
   ]
  },
  {
   "cell_type": "code",
   "execution_count": 18,
   "metadata": {},
   "outputs": [
    {
     "name": "stdout",
     "output_type": "stream",
     "text": [
      "../data/database.db\n",
      "Database created and data inserted successfully.\n"
     ]
    }
   ],
   "source": [
    "schema = sqldb_fn.setup(csv_file, table_name)\n"
   ]
  },
  {
   "cell_type": "code",
   "execution_count": 19,
   "metadata": {},
   "outputs": [
    {
     "data": {
      "text/html": [
       "<div>\n",
       "<style scoped>\n",
       "    .dataframe tbody tr th:only-of-type {\n",
       "        vertical-align: middle;\n",
       "    }\n",
       "\n",
       "    .dataframe tbody tr th {\n",
       "        vertical-align: top;\n",
       "    }\n",
       "\n",
       "    .dataframe thead th {\n",
       "        text-align: right;\n",
       "    }\n",
       "</style>\n",
       "<table border=\"1\" class=\"dataframe\">\n",
       "  <thead>\n",
       "    <tr style=\"text-align: right;\">\n",
       "      <th></th>\n",
       "      <th>cid</th>\n",
       "      <th>name</th>\n",
       "      <th>type</th>\n",
       "      <th>notnull</th>\n",
       "      <th>dflt_value</th>\n",
       "      <th>pk</th>\n",
       "    </tr>\n",
       "  </thead>\n",
       "  <tbody>\n",
       "    <tr>\n",
       "      <th>0</th>\n",
       "      <td>0</td>\n",
       "      <td>Row_ID</td>\n",
       "      <td></td>\n",
       "      <td>0</td>\n",
       "      <td>None</td>\n",
       "      <td>0</td>\n",
       "    </tr>\n",
       "    <tr>\n",
       "      <th>1</th>\n",
       "      <td>1</td>\n",
       "      <td>Order_ID</td>\n",
       "      <td></td>\n",
       "      <td>0</td>\n",
       "      <td>None</td>\n",
       "      <td>0</td>\n",
       "    </tr>\n",
       "    <tr>\n",
       "      <th>2</th>\n",
       "      <td>2</td>\n",
       "      <td>Order_Date</td>\n",
       "      <td></td>\n",
       "      <td>0</td>\n",
       "      <td>None</td>\n",
       "      <td>0</td>\n",
       "    </tr>\n",
       "    <tr>\n",
       "      <th>3</th>\n",
       "      <td>3</td>\n",
       "      <td>Ship_Date</td>\n",
       "      <td></td>\n",
       "      <td>0</td>\n",
       "      <td>None</td>\n",
       "      <td>0</td>\n",
       "    </tr>\n",
       "    <tr>\n",
       "      <th>4</th>\n",
       "      <td>4</td>\n",
       "      <td>Ship_Mode</td>\n",
       "      <td></td>\n",
       "      <td>0</td>\n",
       "      <td>None</td>\n",
       "      <td>0</td>\n",
       "    </tr>\n",
       "    <tr>\n",
       "      <th>5</th>\n",
       "      <td>5</td>\n",
       "      <td>Customer_ID</td>\n",
       "      <td></td>\n",
       "      <td>0</td>\n",
       "      <td>None</td>\n",
       "      <td>0</td>\n",
       "    </tr>\n",
       "    <tr>\n",
       "      <th>6</th>\n",
       "      <td>6</td>\n",
       "      <td>Customer_Name</td>\n",
       "      <td></td>\n",
       "      <td>0</td>\n",
       "      <td>None</td>\n",
       "      <td>0</td>\n",
       "    </tr>\n",
       "    <tr>\n",
       "      <th>7</th>\n",
       "      <td>7</td>\n",
       "      <td>Segment</td>\n",
       "      <td></td>\n",
       "      <td>0</td>\n",
       "      <td>None</td>\n",
       "      <td>0</td>\n",
       "    </tr>\n",
       "    <tr>\n",
       "      <th>8</th>\n",
       "      <td>8</td>\n",
       "      <td>Country</td>\n",
       "      <td></td>\n",
       "      <td>0</td>\n",
       "      <td>None</td>\n",
       "      <td>0</td>\n",
       "    </tr>\n",
       "    <tr>\n",
       "      <th>9</th>\n",
       "      <td>9</td>\n",
       "      <td>City</td>\n",
       "      <td></td>\n",
       "      <td>0</td>\n",
       "      <td>None</td>\n",
       "      <td>0</td>\n",
       "    </tr>\n",
       "    <tr>\n",
       "      <th>10</th>\n",
       "      <td>10</td>\n",
       "      <td>State</td>\n",
       "      <td></td>\n",
       "      <td>0</td>\n",
       "      <td>None</td>\n",
       "      <td>0</td>\n",
       "    </tr>\n",
       "    <tr>\n",
       "      <th>11</th>\n",
       "      <td>11</td>\n",
       "      <td>Postal_Code</td>\n",
       "      <td></td>\n",
       "      <td>0</td>\n",
       "      <td>None</td>\n",
       "      <td>0</td>\n",
       "    </tr>\n",
       "    <tr>\n",
       "      <th>12</th>\n",
       "      <td>12</td>\n",
       "      <td>Region</td>\n",
       "      <td></td>\n",
       "      <td>0</td>\n",
       "      <td>None</td>\n",
       "      <td>0</td>\n",
       "    </tr>\n",
       "    <tr>\n",
       "      <th>13</th>\n",
       "      <td>13</td>\n",
       "      <td>Product_ID</td>\n",
       "      <td></td>\n",
       "      <td>0</td>\n",
       "      <td>None</td>\n",
       "      <td>0</td>\n",
       "    </tr>\n",
       "    <tr>\n",
       "      <th>14</th>\n",
       "      <td>14</td>\n",
       "      <td>Category</td>\n",
       "      <td></td>\n",
       "      <td>0</td>\n",
       "      <td>None</td>\n",
       "      <td>0</td>\n",
       "    </tr>\n",
       "    <tr>\n",
       "      <th>15</th>\n",
       "      <td>15</td>\n",
       "      <td>Sub_Category</td>\n",
       "      <td></td>\n",
       "      <td>0</td>\n",
       "      <td>None</td>\n",
       "      <td>0</td>\n",
       "    </tr>\n",
       "    <tr>\n",
       "      <th>16</th>\n",
       "      <td>16</td>\n",
       "      <td>Product_Name</td>\n",
       "      <td></td>\n",
       "      <td>0</td>\n",
       "      <td>None</td>\n",
       "      <td>0</td>\n",
       "    </tr>\n",
       "    <tr>\n",
       "      <th>17</th>\n",
       "      <td>17</td>\n",
       "      <td>Sales</td>\n",
       "      <td></td>\n",
       "      <td>0</td>\n",
       "      <td>None</td>\n",
       "      <td>0</td>\n",
       "    </tr>\n",
       "    <tr>\n",
       "      <th>18</th>\n",
       "      <td>18</td>\n",
       "      <td>Quantity</td>\n",
       "      <td></td>\n",
       "      <td>0</td>\n",
       "      <td>None</td>\n",
       "      <td>0</td>\n",
       "    </tr>\n",
       "    <tr>\n",
       "      <th>19</th>\n",
       "      <td>19</td>\n",
       "      <td>Discount</td>\n",
       "      <td></td>\n",
       "      <td>0</td>\n",
       "      <td>None</td>\n",
       "      <td>0</td>\n",
       "    </tr>\n",
       "    <tr>\n",
       "      <th>20</th>\n",
       "      <td>20</td>\n",
       "      <td>Profit</td>\n",
       "      <td></td>\n",
       "      <td>0</td>\n",
       "      <td>None</td>\n",
       "      <td>0</td>\n",
       "    </tr>\n",
       "  </tbody>\n",
       "</table>\n",
       "</div>"
      ],
      "text/plain": [
       "    cid           name type  notnull dflt_value  pk\n",
       "0     0         Row_ID             0       None   0\n",
       "1     1       Order_ID             0       None   0\n",
       "2     2     Order_Date             0       None   0\n",
       "3     3      Ship_Date             0       None   0\n",
       "4     4      Ship_Mode             0       None   0\n",
       "5     5    Customer_ID             0       None   0\n",
       "6     6  Customer_Name             0       None   0\n",
       "7     7        Segment             0       None   0\n",
       "8     8        Country             0       None   0\n",
       "9     9           City             0       None   0\n",
       "10   10          State             0       None   0\n",
       "11   11    Postal_Code             0       None   0\n",
       "12   12         Region             0       None   0\n",
       "13   13     Product_ID             0       None   0\n",
       "14   14       Category             0       None   0\n",
       "15   15   Sub_Category             0       None   0\n",
       "16   16   Product_Name             0       None   0\n",
       "17   17          Sales             0       None   0\n",
       "18   18       Quantity             0       None   0\n",
       "19   19       Discount             0       None   0\n",
       "20   20         Profit             0       None   0"
      ]
     },
     "execution_count": 19,
     "metadata": {},
     "output_type": "execute_result"
    }
   ],
   "source": [
    "schema"
   ]
  },
  {
   "cell_type": "code",
   "execution_count": 39,
   "metadata": {},
   "outputs": [
    {
     "name": "stdout",
     "output_type": "stream",
     "text": [
      "../data/database.db\n"
     ]
    }
   ],
   "source": [
    "conn = get_conn(db_file=\"../data/database.db\")\n",
    "\n",
    "result = pd.read_sql_query(\" SELECT SUM(Sales) AS Total_Sales FROM data_fct WHERE State = 'Ohio' \", conn)\n",
    "\n",
    "\n"
   ]
  },
  {
   "cell_type": "code",
   "execution_count": 41,
   "metadata": {},
   "outputs": [
    {
     "data": {
      "text/plain": [
       "'{\"Total_Sales\":{\"0\":78258.1359999999}}'"
      ]
     },
     "execution_count": 41,
     "metadata": {},
     "output_type": "execute_result"
    }
   ],
   "source": [
    "result.to_json()"
   ]
  },
  {
   "cell_type": "code",
   "execution_count": 34,
   "metadata": {},
   "outputs": [],
   "source": [
    "result = pd.read_sql_query(\" SELECT distinct State FROM data_fct \", conn)\n"
   ]
  },
  {
   "cell_type": "code",
   "execution_count": 38,
   "metadata": {},
   "outputs": [
    {
     "data": {
      "text/plain": [
       "'{\"State\":{\"0\":\"Kentucky\",\"1\":\"California\",\"2\":\"Florida\",\"3\":\"North Carolina\",\"4\":\"Washington\",\"5\":\"Texas\",\"6\":\"Wisconsin\",\"7\":\"Utah\",\"8\":\"Nebraska\",\"9\":\"Pennsylvania\",\"10\":\"Illinois\",\"11\":\"Minnesota\",\"12\":\"Michigan\",\"13\":\"Delaware\",\"14\":\"Indiana\",\"15\":\"New York\",\"16\":\"Arizona\",\"17\":\"Virginia\",\"18\":\"Tennessee\",\"19\":\"Alabama\",\"20\":\"South Carolina\",\"21\":\"Oregon\",\"22\":\"Colorado\",\"23\":\"Iowa\",\"24\":\"Ohio\",\"25\":\"Missouri\",\"26\":\"Oklahoma\",\"27\":\"New Mexico\",\"28\":\"Louisiana\",\"29\":\"Connecticut\",\"30\":\"New Jersey\",\"31\":\"Massachusetts\",\"32\":\"Georgia\",\"33\":\"Nevada\",\"34\":\"Rhode Island\",\"35\":\"Mississippi\",\"36\":\"Arkansas\",\"37\":\"Montana\",\"38\":\"New Hampshire\",\"39\":\"Maryland\",\"40\":\"District of Columbia\",\"41\":\"Kansas\",\"42\":\"Vermont\",\"43\":\"Maine\",\"44\":\"South Dakota\",\"45\":\"Idaho\",\"46\":\"North Dakota\",\"47\":\"Wyoming\",\"48\":\"West Virginia\"}}'"
      ]
     },
     "execution_count": 38,
     "metadata": {},
     "output_type": "execute_result"
    }
   ],
   "source": [
    "result.to_json()"
   ]
  },
  {
   "cell_type": "code",
   "execution_count": null,
   "metadata": {},
   "outputs": [],
   "source": []
  }
 ],
 "metadata": {
  "kernelspec": {
   "display_name": "planner",
   "language": "python",
   "name": "python3"
  },
  "language_info": {
   "codemirror_mode": {
    "name": "ipython",
    "version": 3
   },
   "file_extension": ".py",
   "mimetype": "text/x-python",
   "name": "python",
   "nbconvert_exporter": "python",
   "pygments_lexer": "ipython3",
   "version": "3.10.14"
  }
 },
 "nbformat": 4,
 "nbformat_minor": 2
}
